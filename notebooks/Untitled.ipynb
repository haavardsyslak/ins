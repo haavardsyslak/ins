{
 "cells": [
  {
   "cell_type": "code",
   "execution_count": 4,
   "id": "9bed5a95-0dfc-4dbf-ae19-7640bd3eda5e",
   "metadata": {},
   "outputs": [],
   "source": [
    "import sympy as sym"
   ]
  },
  {
   "cell_type": "code",
   "execution_count": 5,
   "id": "50ff0659-feda-4afb-a066-2767f9a92b60",
   "metadata": {},
   "outputs": [],
   "source": [
    "n, e1, e2, e3 = sym.symbols(\"n e1 e2 e3\")\n",
    "v_x, v_y, v_z = sym.symbols(\"v_x v_y v_z\")\n",
    "r_x, r_y, r_z = sym.symbols(\"r_x, r_y, r_z\")\n",
    "# Define velocity vector in world frame\n",
    "v = sym.Matrix([v_x, v_y, v_z])\n",
    "r = sym.Matrix([r_x, r_y, r_z])\n",
    "# Define quaternion-based rotation matrix (body-to-world)\n",
    "R = sym.Matrix([\n",
    "    [1 - 2*(e2**2 + e3**2), 2*(e1*e2 - n*e3), 2*(e1*e3 + n*e2)],\n",
    "    [2*(e1*e2 + n*e3), 1 - 2*(e1**2 + e3**2), 2*(e2*e3 - n*e1)],\n",
    "    [2*(e1*e3 - n*e2), 2*(e2*e3 + n*e1), 1 - 2*(e1**2 + e2**2)]\n",
    "])\n",
    "\n",
    "# Measurement function h(x) = R(q)^T * v\n",
    "h_dvl = R.T * v\n",
    "h_mag = R.T * r\n",
    "\n",
    "# Compute Jacobian of h(x) with respect to quaternion q = [n, e1, e2, e3]\n",
    "q = sym.Matrix([n, e1, e2, e3])\n",
    "H_q_dvl = h_dvl.jacobian(q)\n",
    "\n",
    "# Compute Jacobian of h(x) with respect to velocity v = [v_x, v_y, v_z]\n",
    "H_v_dvl = h_dvl.jacobian(v)\n"
   ]
  },
  {
   "cell_type": "code",
   "execution_count": 6,
   "id": "f18430cd-fde5-4312-86cb-9a8ff43d2ead",
   "metadata": {},
   "outputs": [
    {
     "data": {
      "text/latex": [
       "$\\displaystyle \\left[\\begin{matrix}v_{x} \\left(- 2 e_{2}^{2} - 2 e_{3}^{2} + 1\\right) + v_{y} \\left(2 e_{1} e_{2} + 2 e_{3} n\\right) + v_{z} \\left(2 e_{1} e_{3} - 2 e_{2} n\\right)\\\\v_{x} \\left(2 e_{1} e_{2} - 2 e_{3} n\\right) + v_{y} \\left(- 2 e_{1}^{2} - 2 e_{3}^{2} + 1\\right) + v_{z} \\left(2 e_{1} n + 2 e_{2} e_{3}\\right)\\\\v_{x} \\left(2 e_{1} e_{3} + 2 e_{2} n\\right) + v_{y} \\left(- 2 e_{1} n + 2 e_{2} e_{3}\\right) + v_{z} \\left(- 2 e_{1}^{2} - 2 e_{2}^{2} + 1\\right)\\end{matrix}\\right]$"
      ],
      "text/plain": [
       "Matrix([\n",
       "[ v_x*(-2*e2**2 - 2*e3**2 + 1) + v_y*(2*e1*e2 + 2*e3*n) + v_z*(2*e1*e3 - 2*e2*n)],\n",
       "[ v_x*(2*e1*e2 - 2*e3*n) + v_y*(-2*e1**2 - 2*e3**2 + 1) + v_z*(2*e1*n + 2*e2*e3)],\n",
       "[v_x*(2*e1*e3 + 2*e2*n) + v_y*(-2*e1*n + 2*e2*e3) + v_z*(-2*e1**2 - 2*e2**2 + 1)]])"
      ]
     },
     "execution_count": 6,
     "metadata": {},
     "output_type": "execute_result"
    }
   ],
   "source": [
    "h_dvl\n"
   ]
  },
  {
   "cell_type": "code",
   "execution_count": 7,
   "id": "7532280a-5eec-4649-a47a-f486011dde2b",
   "metadata": {},
   "outputs": [
    {
     "data": {
      "text/latex": [
       "$\\displaystyle \\left[\\begin{matrix}- 2 e_{2} v_{z} + 2 e_{3} v_{y} & 2 e_{2} v_{y} + 2 e_{3} v_{z} & 2 e_{1} v_{y} - 4 e_{2} v_{x} - 2 n v_{z} & 2 e_{1} v_{z} - 4 e_{3} v_{x} + 2 n v_{y}\\\\2 e_{1} v_{z} - 2 e_{3} v_{x} & - 4 e_{1} v_{y} + 2 e_{2} v_{x} + 2 n v_{z} & 2 e_{1} v_{x} + 2 e_{3} v_{z} & 2 e_{2} v_{z} - 4 e_{3} v_{y} - 2 n v_{x}\\\\- 2 e_{1} v_{y} + 2 e_{2} v_{x} & - 4 e_{1} v_{z} + 2 e_{3} v_{x} - 2 n v_{y} & - 4 e_{2} v_{z} + 2 e_{3} v_{y} + 2 n v_{x} & 2 e_{1} v_{x} + 2 e_{2} v_{y}\\end{matrix}\\right]$"
      ],
      "text/plain": [
       "Matrix([\n",
       "[-2*e2*v_z + 2*e3*v_y,            2*e2*v_y + 2*e3*v_z,  2*e1*v_y - 4*e2*v_x - 2*n*v_z, 2*e1*v_z - 4*e3*v_x + 2*n*v_y],\n",
       "[ 2*e1*v_z - 2*e3*v_x, -4*e1*v_y + 2*e2*v_x + 2*n*v_z,            2*e1*v_x + 2*e3*v_z, 2*e2*v_z - 4*e3*v_y - 2*n*v_x],\n",
       "[-2*e1*v_y + 2*e2*v_x, -4*e1*v_z + 2*e3*v_x - 2*n*v_y, -4*e2*v_z + 2*e3*v_y + 2*n*v_x,           2*e1*v_x + 2*e2*v_y]])"
      ]
     },
     "execution_count": 7,
     "metadata": {},
     "output_type": "execute_result"
    }
   ],
   "source": [
    "# Display result\n",
    "H_q_simp = sym.simplify(H_q_dvl)\n",
    "H_q_simp\n"
   ]
  },
  {
   "cell_type": "code",
   "execution_count": 13,
   "id": "045be80b-7221-4864-adad-d1aa789c66c1",
   "metadata": {},
   "outputs": [
    {
     "data": {
      "text/latex": [
       "$\\displaystyle \\left[\\begin{matrix}- 2 e_{2}^{2} - 2 e_{3}^{2} + 1 & 2 e_{1} e_{2} + 2 e_{3} n & 2 e_{1} e_{3} - 2 e_{2} n\\\\2 e_{1} e_{2} - 2 e_{3} n & - 2 e_{1}^{2} - 2 e_{3}^{2} + 1 & 2 e_{1} n + 2 e_{2} e_{3}\\\\2 e_{1} e_{3} + 2 e_{2} n & - 2 e_{1} n + 2 e_{2} e_{3} & - 2 e_{1}^{2} - 2 e_{2}^{2} + 1\\end{matrix}\\right]$"
      ],
      "text/plain": [
       "Matrix([\n",
       "[-2*e2**2 - 2*e3**2 + 1,       2*e1*e2 + 2*e3*n,       2*e1*e3 - 2*e2*n],\n",
       "[      2*e1*e2 - 2*e3*n, -2*e1**2 - 2*e3**2 + 1,       2*e1*n + 2*e2*e3],\n",
       "[      2*e1*e3 + 2*e2*n,      -2*e1*n + 2*e2*e3, -2*e1**2 - 2*e2**2 + 1]])"
      ]
     },
     "execution_count": 13,
     "metadata": {},
     "output_type": "execute_result"
    }
   ],
   "source": [
    "H_v_simp = sym.simplify(H_v_dvl)\n",
    "H_v_simp\n",
    "#print(sym.latex(H_v_simp))"
   ]
  },
  {
   "cell_type": "code",
   "execution_count": 8,
   "id": "6a2b9b50-c539-42f2-9d45-d9e38a98a966",
   "metadata": {},
   "outputs": [
    {
     "data": {
      "text/latex": [
       "$\\displaystyle \\left[\\begin{matrix}- 2 e_{2} v_{z} + 2 e_{3} v_{y} & 2 e_{2} v_{y} + 2 e_{3} v_{z} & 2 e_{1} v_{y} - 4 e_{2} v_{x} - 2 n v_{z} & 2 e_{1} v_{z} - 4 e_{3} v_{x} + 2 n v_{y}\\\\2 e_{1} v_{z} - 2 e_{3} v_{x} & - 4 e_{1} v_{y} + 2 e_{2} v_{x} + 2 n v_{z} & 2 e_{1} v_{x} + 2 e_{3} v_{z} & 2 e_{2} v_{z} - 4 e_{3} v_{y} - 2 n v_{x}\\\\- 2 e_{1} v_{y} + 2 e_{2} v_{x} & - 4 e_{1} v_{z} + 2 e_{3} v_{x} - 2 n v_{y} & - 4 e_{2} v_{z} + 2 e_{3} v_{y} + 2 n v_{x} & 2 e_{1} v_{x} + 2 e_{2} v_{y}\\end{matrix}\\right]$"
      ],
      "text/plain": [
       "Matrix([\n",
       "[-2*e2*v_z + 2*e3*v_y,            2*e2*v_y + 2*e3*v_z,  2*e1*v_y - 4*e2*v_x - 2*n*v_z, 2*e1*v_z - 4*e3*v_x + 2*n*v_y],\n",
       "[ 2*e1*v_z - 2*e3*v_x, -4*e1*v_y + 2*e2*v_x + 2*n*v_z,            2*e1*v_x + 2*e3*v_z, 2*e2*v_z - 4*e3*v_y - 2*n*v_x],\n",
       "[-2*e1*v_y + 2*e2*v_x, -4*e1*v_z + 2*e3*v_x - 2*n*v_y, -4*e2*v_z + 2*e3*v_y + 2*n*v_x,           2*e1*v_x + 2*e2*v_y]])"
      ]
     },
     "execution_count": 8,
     "metadata": {},
     "output_type": "execute_result"
    }
   ],
   "source": [
    "H_q"
   ]
  },
  {
   "cell_type": "code",
   "execution_count": 10,
   "id": "f6222e54-cdf9-46a5-b98b-7763bab9f7df",
   "metadata": {},
   "outputs": [
    {
     "data": {
      "text/plain": [
       "'\\\\left[\\\\begin{matrix}- 2 e_{2} v_{z} + 2 e_{3} v_{y} & 2 e_{2} v_{y} + 2 e_{3} v_{z} & 2 e_{1} v_{y} - 4 e_{2} v_{x} - 2 n v_{z} & 2 e_{1} v_{z} - 4 e_{3} v_{x} + 2 n v_{y}\\\\\\\\2 e_{1} v_{z} - 2 e_{3} v_{x} & - 4 e_{1} v_{y} + 2 e_{2} v_{x} + 2 n v_{z} & 2 e_{1} v_{x} + 2 e_{3} v_{z} & 2 e_{2} v_{z} - 4 e_{3} v_{y} - 2 n v_{x}\\\\\\\\- 2 e_{1} v_{y} + 2 e_{2} v_{x} & - 4 e_{1} v_{z} + 2 e_{3} v_{x} - 2 n v_{y} & - 4 e_{2} v_{z} + 2 e_{3} v_{y} + 2 n v_{x} & 2 e_{1} v_{x} + 2 e_{2} v_{y}\\\\end{matrix}\\\\right]'"
      ]
     },
     "execution_count": 10,
     "metadata": {},
     "output_type": "execute_result"
    }
   ],
   "source": [
    "sym.latex(H_)"
   ]
  },
  {
   "cell_type": "code",
   "execution_count": 15,
   "id": "0f0c6d01-aff0-4739-b3a5-fa06e7af92d4",
   "metadata": {},
   "outputs": [
    {
     "data": {
      "text/plain": [
       "'\\\\left[\\\\begin{matrix}- 2 e_{2} r_{z} + 2 e_{3} r_{y} & 2 e_{2} r_{y} + 2 e_{3} r_{z} & 2 e_{1} r_{y} - 4 e_{2} r_{x} - 2 n r_{z} & 2 e_{1} r_{z} - 4 e_{3} r_{x} + 2 n r_{y}\\\\\\\\2 e_{1} r_{z} - 2 e_{3} r_{x} & - 4 e_{1} r_{y} + 2 e_{2} r_{x} + 2 n r_{z} & 2 e_{1} r_{x} + 2 e_{3} r_{z} & 2 e_{2} r_{z} - 4 e_{3} r_{y} - 2 n r_{x}\\\\\\\\- 2 e_{1} r_{y} + 2 e_{2} r_{x} & - 4 e_{1} r_{z} + 2 e_{3} r_{x} - 2 n r_{y} & - 4 e_{2} r_{z} + 2 e_{3} r_{y} + 2 n r_{x} & 2 e_{1} r_{x} + 2 e_{2} r_{y}\\\\end{matrix}\\\\right]'"
      ]
     },
     "execution_count": 15,
     "metadata": {},
     "output_type": "execute_result"
    }
   ],
   "source": [
    "H_mag_q = h_mag.jacobian(q)\n",
    "sym.latex(sym.simplify(H_mag_q))"
   ]
  },
  {
   "cell_type": "code",
   "execution_count": null,
   "id": "a0860222-9a1d-4ef1-968a-5b473170d1f8",
   "metadata": {},
   "outputs": [],
   "source": [
    "e1, "
   ]
  }
 ],
 "metadata": {
  "kernelspec": {
   "display_name": "Python 3.11 (ipykernel)",
   "language": "python",
   "name": "python3.11"
  },
  "language_info": {
   "codemirror_mode": {
    "name": "ipython",
    "version": 3
   },
   "file_extension": ".py",
   "mimetype": "text/x-python",
   "name": "python",
   "nbconvert_exporter": "python",
   "pygments_lexer": "ipython3",
   "version": "3.11.11"
  }
 },
 "nbformat": 4,
 "nbformat_minor": 5
}
